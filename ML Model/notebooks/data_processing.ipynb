{
 "cells": [
  {
   "cell_type": "code",
   "execution_count": 2,
   "metadata": {},
   "outputs": [
    {
     "name": "stderr",
     "output_type": "stream",
     "text": [
      "[*********************100%***********************]  1 of 1 completed"
     ]
    },
    {
     "name": "stdout",
     "output_type": "stream",
     "text": [
      "Data saved to ../data/tsla_data.csv\n"
     ]
    },
    {
     "name": "stderr",
     "output_type": "stream",
     "text": [
      "\n"
     ]
    }
   ],
   "source": [
    "import sys\n",
    "import os\n",
    "\n",
    "# Get the absolute path to the `src` directory\n",
    "src_path = os.path.abspath(os.path.join('..', 'src'))\n",
    "\n",
    "# Add the `src` directory to the Python path\n",
    "if src_path not in sys.path:\n",
    "    sys.path.append(src_path)\n",
    "\n",
    "from data_processing import fetch_tsla_data, save_data_to_csv\n",
    "\n",
    "tsla_data = fetch_tsla_data()\n",
    "\n",
    "save_data_to_csv(tsla_data, filename='../data/tsla_data.csv')"
   ]
  },
  {
   "cell_type": "code",
   "execution_count": 5,
   "metadata": {},
   "outputs": [
    {
     "name": "stdout",
     "output_type": "stream",
     "text": [
      "         Date       Open       High        Low      Close  Adj Close    Volume\n",
      "0  2015-01-02  14.858000  14.883333  14.217333  14.620667  14.620667  71466000\n",
      "1  2015-01-05  14.303333  14.433333  13.810667  14.006000  14.006000  80527500\n",
      "2  2015-01-06  14.004000  14.280000  13.614000  14.085333  14.085333  93928500\n",
      "3  2015-01-07  14.223333  14.318667  13.985333  14.063333  14.063333  44526000\n",
      "4  2015-01-08  14.187333  14.253333  14.000667  14.041333  14.041333  51637500\n"
     ]
    }
   ],
   "source": [
    "from data_processing import load_data_from_csv\n",
    "\n",
    "# Load TSLA data from the saved CSV file\n",
    "tsla_data = load_data_from_csv('../data/tsla_data.csv')\n",
    "\n",
    "# Display the first few rows\n",
    "print(tsla_data.head())"
   ]
  },
  {
   "cell_type": "markdown",
   "metadata": {},
   "source": []
  }
 ],
 "metadata": {
  "kernelspec": {
   "display_name": "ml-trading-platform",
   "language": "python",
   "name": "python3"
  },
  "language_info": {
   "codemirror_mode": {
    "name": "ipython",
    "version": 3
   },
   "file_extension": ".py",
   "mimetype": "text/x-python",
   "name": "python",
   "nbconvert_exporter": "python",
   "pygments_lexer": "ipython3",
   "version": "3.9.16"
  }
 },
 "nbformat": 4,
 "nbformat_minor": 2
}
